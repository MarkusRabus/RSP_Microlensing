{
 "cells": [
  {
   "cell_type": "markdown",
   "id": "61cdc5ae-31ab-4918-bbd6-a9e8b1255159",
   "metadata": {},
   "source": [
    "# Find ML in Truth table"
   ]
  },
  {
   "cell_type": "code",
   "execution_count": 1,
   "id": "76e42b39-a4c0-4df2-acc8-dd0aaa91c836",
   "metadata": {
    "execution": {
     "iopub.execute_input": "2023-04-17T15:15:24.977526Z",
     "iopub.status.busy": "2023-04-17T15:15:24.977190Z",
     "iopub.status.idle": "2023-04-17T15:15:25.357587Z",
     "shell.execute_reply": "2023-04-17T15:15:25.356779Z",
     "shell.execute_reply.started": "2023-04-17T15:15:24.977500Z"
    }
   },
   "outputs": [],
   "source": [
    "import matplotlib.pyplot as plt\n",
    "import numpy as np\n",
    "import pandas\n",
    "from lsst.rsp import get_tap_service, retrieve_query"
   ]
  },
  {
   "cell_type": "code",
   "execution_count": 2,
   "id": "a008d4a0-e5f9-4aac-87d8-f57466d35868",
   "metadata": {
    "execution": {
     "iopub.execute_input": "2023-04-17T15:29:34.513260Z",
     "iopub.status.busy": "2023-04-17T15:29:34.512445Z",
     "iopub.status.idle": "2023-04-17T15:29:34.537281Z",
     "shell.execute_reply": "2023-04-17T15:29:34.536572Z",
     "shell.execute_reply.started": "2023-04-17T15:29:34.513230Z"
    }
   },
   "outputs": [],
   "source": [
    "pandas.set_option('display.max_rows', 200)\n",
    "%matplotlib inline\n",
    "\n"
   ]
  },
  {
   "cell_type": "code",
   "execution_count": null,
   "id": "d0d6e539-4724-41b2-9d91-893511daf6c8",
   "metadata": {},
   "outputs": [],
   "source": []
  },
  {
   "cell_type": "code",
   "execution_count": null,
   "id": "1504f144-90ef-4e1b-9f95-32253b3810cc",
   "metadata": {},
   "outputs": [],
   "source": []
  },
  {
   "cell_type": "code",
   "execution_count": null,
   "id": "c9e4126a-3ba3-4cbc-938e-a9372e1c2c96",
   "metadata": {},
   "outputs": [],
   "source": []
  },
  {
   "cell_type": "code",
   "execution_count": null,
   "id": "f3d705ec-8487-4d91-8b4b-a808a0b84b1c",
   "metadata": {},
   "outputs": [],
   "source": []
  },
  {
   "cell_type": "code",
   "execution_count": null,
   "id": "0ed8d74e-791a-4c0b-91e9-81f142bf0d72",
   "metadata": {},
   "outputs": [],
   "source": []
  }
 ],
 "metadata": {
  "kernelspec": {
   "display_name": "LSST",
   "language": "python",
   "name": "lsst"
  },
  "language_info": {
   "codemirror_mode": {
    "name": "ipython",
    "version": 3
   },
   "file_extension": ".py",
   "mimetype": "text/x-python",
   "name": "python",
   "nbconvert_exporter": "python",
   "pygments_lexer": "ipython3",
   "version": "3.10.9"
  }
 },
 "nbformat": 4,
 "nbformat_minor": 5
}
